{
  "nbformat": 4,
  "nbformat_minor": 0,
  "metadata": {
    "colab": {
      "name": "KG_eq_from_metric_spherical.ipynb",
      "provenance": [],
      "collapsed_sections": [],
      "authorship_tag": "ABX9TyP3zeTe5+jiW/Woqu2MTqUK",
      "include_colab_link": true
    },
    "kernelspec": {
      "name": "python3",
      "display_name": "Python 3"
    }
  },
  "cells": [
    {
      "cell_type": "markdown",
      "metadata": {
        "id": "view-in-github",
        "colab_type": "text"
      },
      "source": [
        "<a href=\"https://colab.research.google.com/github/lsellers11/Klein-Gordon-Operator-from-Metric/blob/main/KG_eq_from_metric_spherical.ipynb\" target=\"_parent\"><img src=\"https://colab.research.google.com/assets/colab-badge.svg\" alt=\"Open In Colab\"/></a>"
      ]
    },
    {
      "cell_type": "code",
      "metadata": {
        "colab": {
          "base_uri": "https://localhost:8080/"
        },
        "id": "4m0U_x5dwrlV",
        "outputId": "cf0c696f-5f0b-4acf-a749-8ed80b045034"
      },
      "source": [
        "from sympy import *\n",
        "from sympy import Symbol, latex\n",
        "init_printing()\n",
        "\n",
        "### Spacetime Variables\n",
        "t, r, theta, phi = symbols('t r theta phi')\n",
        "vars = [t, r, theta, phi]\n",
        "\n",
        "## For Printing Klein Gordon\n",
        "dt, dr, dtheta, dphi  = symbols('d/dt d/dr d/dtheta d/dphi')\n",
        "derivs = [dt, dr, dtheta, dphi]\n",
        "\n",
        "### Spacetime Parameters\n",
        "M, a, mu = symbols('M a mu')\n",
        "\n",
        "### Define Metric\n",
        "g = Matrix([[-1,0,0,0], [0,1,0,0], [0,0,r**2,0], [0,0,0,r**2*sin(theta)]])\n",
        "\n",
        "### Get Determinant\n",
        "detg = g.det()\n",
        "\n",
        "### Get Inverse\n",
        "ginv = g.inv()\n",
        "\n",
        "### Derive Klein Gordon\n",
        "\n",
        "## 2nd Order Derivative Terms\n",
        "KG2 = zeros(4, 4)\n",
        "\n",
        "## 1st Order Derivatives from Product Rule\n",
        "KG1 = zeros(4,4)\n",
        "\n",
        "##Loop\n",
        "for i in range(4):\n",
        "\n",
        "  for j in range(4):\n",
        "\n",
        "    f = ginv[i, j]*(-1*detg)**(1/2)\n",
        "      \n",
        "    KG2[i, j] = ginv[i, j]\n",
        "\n",
        "    KG1[i, j] = 1 / (-1*detg)**(1/2) * diff(f, vars[i])\n",
        "\n",
        "### Print Klein Gordon\n",
        "KGoperator = 0\n",
        "\n",
        "for i in range(4):\n",
        "  for j in range(4):\n",
        "    KGoperator += KG2[i, j]*derivs[i]*derivs[j]\n",
        "    KGoperator += KG1[i, j]*derivs[j]\n",
        "KGoperator += mu**2\n",
        "\n",
        "pprint(KGoperator)"
      ],
      "execution_count": 67,
      "outputs": [
        {
          "output_type": "stream",
          "text": [
            "       2                                       2                           \n",
            " d/dphi         2   2.0⋅d/dr       2   d/dtheta    0.5⋅d/dtheta⋅cos(θ)    2\n",
            "───────── + d/dr  + ──────── - d/dt  + ───────── + ─────────────────── + μ \n",
            " 2                     r                    2            2                 \n",
            "r ⋅sin(θ)                                  r            r ⋅sin(θ)          \n"
          ],
          "name": "stdout"
        }
      ]
    },
    {
      "cell_type": "code",
      "metadata": {
        "id": "5TFH8tQryROY"
      },
      "source": [
        ""
      ],
      "execution_count": null,
      "outputs": []
    }
  ]
}