from sympy import *
from sympy import Symbol, latex
init_printing()

### Spacetime Variables
t, r, theta, phi = symbols('t r theta phi')
vars = [t, r, theta, phi]

## For Printing Klein Gordon
dt, dr, dtheta, dphi  = symbols('d/dt d/dr d/dtheta d/dphi')
derivs = [dt, dr, dtheta, dphi]

### Spacetime Parameters
M, a, mu = symbols('M a mu')

### Define Metric
g = Matrix([[-1,0,0,0], [0,1,0,0], [0,0,r**2,0], [0,0,0,r**2*sin(theta)]])

### Get Determinant
detg = g.det()

### Get Inverse
ginv = g.inv()

### Derive Klein Gordon

## 2nd Order Derivative Terms
KG2 = zeros(4, 4)

## 1st Order Derivatives from Product Rule
KG1 = zeros(4,4)

##Loop
for i in range(4):

  for j in range(4):

    f = ginv[i, j]*(-1*detg)**(1/2)
      
    KG2[i, j] = ginv[i, j]

    KG1[i, j] = 1 / (-1*detg)**(1/2) * diff(f, vars[i])

### Print Klein Gordon
KGoperator = 0

for i in range(4):
  for j in range(4):
    KGoperator += KG2[i, j]*derivs[i]*derivs[j]
    KGoperator += KG1[i, j]*derivs[j]
KGoperator += mu**2

pprint(KGoperator)
